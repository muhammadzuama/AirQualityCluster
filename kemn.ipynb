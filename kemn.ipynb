{
 "cells": [
  {
   "cell_type": "code",
   "execution_count": 15,
   "id": "3edf2a91",
   "metadata": {},
   "outputs": [],
   "source": [
    "import pandas as pd\n",
    "import matplotlib.pyplot as plt\n",
    "from sklearn.preprocessing import OneHotEncoder, StandardScaler\n",
    "from sklearn.impute import SimpleImputer\n",
    "from sklearn.decomposition import PCA\n",
    "from sklearn.cluster import KMeans\n",
    "from sklearn.metrics import silhouette_score, davies_bouldin_score, calinski_harabasz_score\n"
   ]
  },
  {
   "cell_type": "code",
   "execution_count": null,
   "id": "c04d4a69",
   "metadata": {},
   "outputs": [
    {
     "data": {
      "text/html": [
       "<div>\n",
       "<style scoped>\n",
       "    .dataframe tbody tr th:only-of-type {\n",
       "        vertical-align: middle;\n",
       "    }\n",
       "\n",
       "    .dataframe tbody tr th {\n",
       "        vertical-align: top;\n",
       "    }\n",
       "\n",
       "    .dataframe thead th {\n",
       "        text-align: right;\n",
       "    }\n",
       "</style>\n",
       "<table border=\"1\" class=\"dataframe\">\n",
       "  <thead>\n",
       "    <tr style=\"text-align: right;\">\n",
       "      <th></th>\n",
       "      <th>date</th>\n",
       "      <th>Station code</th>\n",
       "      <th>Address</th>\n",
       "      <th>Latitude</th>\n",
       "      <th>Longitude</th>\n",
       "      <th>SO2</th>\n",
       "      <th>NO2</th>\n",
       "      <th>CO</th>\n",
       "      <th>O3</th>\n",
       "      <th>PM2.5</th>\n",
       "      <th>PM10</th>\n",
       "    </tr>\n",
       "  </thead>\n",
       "  <tbody>\n",
       "    <tr>\n",
       "      <th>0</th>\n",
       "      <td>1/1/2017 0:00</td>\n",
       "      <td>101</td>\n",
       "      <td>Kuril Bishow Road, Dhaka, Bangladesh</td>\n",
       "      <td>23.820612</td>\n",
       "      <td>90.421011</td>\n",
       "      <td>0.04</td>\n",
       "      <td>0.059</td>\n",
       "      <td>1.2</td>\n",
       "      <td>0.0525</td>\n",
       "      <td>57</td>\n",
       "      <td>73</td>\n",
       "    </tr>\n",
       "    <tr>\n",
       "      <th>1</th>\n",
       "      <td>1/1/2017 1:00</td>\n",
       "      <td>101</td>\n",
       "      <td>Kuril Bishow Road, Dhaka, Bangladesh</td>\n",
       "      <td>23.820612</td>\n",
       "      <td>90.421011</td>\n",
       "      <td>0.04</td>\n",
       "      <td>0.058</td>\n",
       "      <td>1.2</td>\n",
       "      <td>0.0525</td>\n",
       "      <td>59</td>\n",
       "      <td>71</td>\n",
       "    </tr>\n",
       "    <tr>\n",
       "      <th>2</th>\n",
       "      <td>1/1/2017 2:00</td>\n",
       "      <td>101</td>\n",
       "      <td>Kuril Bishow Road, Dhaka, Bangladesh</td>\n",
       "      <td>23.820612</td>\n",
       "      <td>90.421011</td>\n",
       "      <td>0.04</td>\n",
       "      <td>0.056</td>\n",
       "      <td>1.2</td>\n",
       "      <td>0.0525</td>\n",
       "      <td>59</td>\n",
       "      <td>70</td>\n",
       "    </tr>\n",
       "    <tr>\n",
       "      <th>3</th>\n",
       "      <td>1/1/2017 3:00</td>\n",
       "      <td>101</td>\n",
       "      <td>Kuril Bishow Road, Dhaka, Bangladesh</td>\n",
       "      <td>23.820612</td>\n",
       "      <td>90.421011</td>\n",
       "      <td>0.04</td>\n",
       "      <td>0.056</td>\n",
       "      <td>1.2</td>\n",
       "      <td>0.0525</td>\n",
       "      <td>58</td>\n",
       "      <td>70</td>\n",
       "    </tr>\n",
       "    <tr>\n",
       "      <th>4</th>\n",
       "      <td>1/1/2017 4:00</td>\n",
       "      <td>101</td>\n",
       "      <td>Kuril Bishow Road, Dhaka, Bangladesh</td>\n",
       "      <td>23.820612</td>\n",
       "      <td>90.421011</td>\n",
       "      <td>0.03</td>\n",
       "      <td>0.051</td>\n",
       "      <td>1.2</td>\n",
       "      <td>0.0525</td>\n",
       "      <td>61</td>\n",
       "      <td>69</td>\n",
       "    </tr>\n",
       "    <tr>\n",
       "      <th>...</th>\n",
       "      <td>...</td>\n",
       "      <td>...</td>\n",
       "      <td>...</td>\n",
       "      <td>...</td>\n",
       "      <td>...</td>\n",
       "      <td>...</td>\n",
       "      <td>...</td>\n",
       "      <td>...</td>\n",
       "      <td>...</td>\n",
       "      <td>...</td>\n",
       "      <td>...</td>\n",
       "    </tr>\n",
       "    <tr>\n",
       "      <th>155400</th>\n",
       "      <td>12/31/2022 19:00</td>\n",
       "      <td>103</td>\n",
       "      <td>Tongi, Gazipur, Bangladesh</td>\n",
       "      <td>23.894144</td>\n",
       "      <td>90.404219</td>\n",
       "      <td>0.02</td>\n",
       "      <td>0.030</td>\n",
       "      <td>3.5</td>\n",
       "      <td>0.1100</td>\n",
       "      <td>59</td>\n",
       "      <td>99</td>\n",
       "    </tr>\n",
       "    <tr>\n",
       "      <th>155401</th>\n",
       "      <td>12/31/2022 20:00</td>\n",
       "      <td>103</td>\n",
       "      <td>Tongi, Gazipur, Bangladesh</td>\n",
       "      <td>23.894144</td>\n",
       "      <td>90.404219</td>\n",
       "      <td>0.02</td>\n",
       "      <td>0.030</td>\n",
       "      <td>3.5</td>\n",
       "      <td>0.1000</td>\n",
       "      <td>61</td>\n",
       "      <td>101</td>\n",
       "    </tr>\n",
       "    <tr>\n",
       "      <th>155402</th>\n",
       "      <td>12/31/2022 21:00</td>\n",
       "      <td>103</td>\n",
       "      <td>Tongi, Gazipur, Bangladesh</td>\n",
       "      <td>23.894144</td>\n",
       "      <td>90.404219</td>\n",
       "      <td>0.02</td>\n",
       "      <td>0.028</td>\n",
       "      <td>3.5</td>\n",
       "      <td>0.1000</td>\n",
       "      <td>62</td>\n",
       "      <td>100</td>\n",
       "    </tr>\n",
       "    <tr>\n",
       "      <th>155403</th>\n",
       "      <td>12/31/2022 22:00</td>\n",
       "      <td>103</td>\n",
       "      <td>Tongi, Gazipur, Bangladesh</td>\n",
       "      <td>23.894144</td>\n",
       "      <td>90.404219</td>\n",
       "      <td>0.02</td>\n",
       "      <td>0.042</td>\n",
       "      <td>3.6</td>\n",
       "      <td>0.0525</td>\n",
       "      <td>65</td>\n",
       "      <td>106</td>\n",
       "    </tr>\n",
       "    <tr>\n",
       "      <th>155404</th>\n",
       "      <td>12/31/2022 23:00</td>\n",
       "      <td>103</td>\n",
       "      <td>Tongi, Gazipur, Bangladesh</td>\n",
       "      <td>23.894144</td>\n",
       "      <td>90.404219</td>\n",
       "      <td>0.02</td>\n",
       "      <td>0.037</td>\n",
       "      <td>3.5</td>\n",
       "      <td>0.0400</td>\n",
       "      <td>64</td>\n",
       "      <td>104</td>\n",
       "    </tr>\n",
       "  </tbody>\n",
       "</table>\n",
       "<p>155405 rows × 11 columns</p>\n",
       "</div>"
      ],
      "text/plain": [
       "                    date  Station code                               Address  \\\n",
       "0          1/1/2017 0:00           101  Kuril Bishow Road, Dhaka, Bangladesh   \n",
       "1          1/1/2017 1:00           101  Kuril Bishow Road, Dhaka, Bangladesh   \n",
       "2          1/1/2017 2:00           101  Kuril Bishow Road, Dhaka, Bangladesh   \n",
       "3          1/1/2017 3:00           101  Kuril Bishow Road, Dhaka, Bangladesh   \n",
       "4          1/1/2017 4:00           101  Kuril Bishow Road, Dhaka, Bangladesh   \n",
       "...                  ...           ...                                   ...   \n",
       "155400  12/31/2022 19:00           103            Tongi, Gazipur, Bangladesh   \n",
       "155401  12/31/2022 20:00           103            Tongi, Gazipur, Bangladesh   \n",
       "155402  12/31/2022 21:00           103            Tongi, Gazipur, Bangladesh   \n",
       "155403  12/31/2022 22:00           103            Tongi, Gazipur, Bangladesh   \n",
       "155404  12/31/2022 23:00           103            Tongi, Gazipur, Bangladesh   \n",
       "\n",
       "         Latitude  Longitude   SO2    NO2   CO      O3  PM2.5  PM10  \n",
       "0       23.820612  90.421011  0.04  0.059  1.2  0.0525     57    73  \n",
       "1       23.820612  90.421011  0.04  0.058  1.2  0.0525     59    71  \n",
       "2       23.820612  90.421011  0.04  0.056  1.2  0.0525     59    70  \n",
       "3       23.820612  90.421011  0.04  0.056  1.2  0.0525     58    70  \n",
       "4       23.820612  90.421011  0.03  0.051  1.2  0.0525     61    69  \n",
       "...           ...        ...   ...    ...  ...     ...    ...   ...  \n",
       "155400  23.894144  90.404219  0.02  0.030  3.5  0.1100     59    99  \n",
       "155401  23.894144  90.404219  0.02  0.030  3.5  0.1000     61   101  \n",
       "155402  23.894144  90.404219  0.02  0.028  3.5  0.1000     62   100  \n",
       "155403  23.894144  90.404219  0.02  0.042  3.6  0.0525     65   106  \n",
       "155404  23.894144  90.404219  0.02  0.037  3.5  0.0400     64   104  \n",
       "\n",
       "[155405 rows x 11 columns]"
      ]
     },
     "execution_count": 17,
     "metadata": {},
     "output_type": "execute_result"
    }
   ],
   "source": [
    "data = pd.read_csv(\"my_ap_dataset.csv\",sep=';')\n",
    "data"
   ]
  },
  {
   "cell_type": "code",
   "execution_count": 18,
   "id": "30bfe820",
   "metadata": {},
   "outputs": [
    {
     "name": "stdout",
     "output_type": "stream",
     "text": [
      "<class 'pandas.core.frame.DataFrame'>\n",
      "RangeIndex: 155405 entries, 0 to 155404\n",
      "Data columns (total 11 columns):\n",
      " #   Column        Non-Null Count   Dtype  \n",
      "---  ------        --------------   -----  \n",
      " 0   date          155405 non-null  object \n",
      " 1   Station code  155405 non-null  int64  \n",
      " 2   Address       155405 non-null  object \n",
      " 3   Latitude      155405 non-null  float64\n",
      " 4   Longitude     155405 non-null  float64\n",
      " 5   SO2           155405 non-null  float64\n",
      " 6   NO2           155405 non-null  float64\n",
      " 7   CO            155405 non-null  float64\n",
      " 8   O3            155405 non-null  float64\n",
      " 9   PM2.5         155405 non-null  int64  \n",
      " 10  PM10          155405 non-null  int64  \n",
      "dtypes: float64(6), int64(3), object(2)\n",
      "memory usage: 13.0+ MB\n"
     ]
    }
   ],
   "source": [
    "data.info()"
   ]
  },
  {
   "cell_type": "code",
   "execution_count": 19,
   "id": "32c9bad7",
   "metadata": {},
   "outputs": [],
   "source": [
    "# 2. Handling missing values (imputasi jika ada kolom null)\n",
    "imputer = SimpleImputer(strategy=\"most_frequent\")\n",
    "data = pd.DataFrame(imputer.fit_transform(data), columns=data.columns)"
   ]
  },
  {
   "cell_type": "code",
   "execution_count": 20,
   "id": "8bc6a340",
   "metadata": {},
   "outputs": [
    {
     "data": {
      "text/html": [
       "<div>\n",
       "<style scoped>\n",
       "    .dataframe tbody tr th:only-of-type {\n",
       "        vertical-align: middle;\n",
       "    }\n",
       "\n",
       "    .dataframe tbody tr th {\n",
       "        vertical-align: top;\n",
       "    }\n",
       "\n",
       "    .dataframe thead th {\n",
       "        text-align: right;\n",
       "    }\n",
       "</style>\n",
       "<table border=\"1\" class=\"dataframe\">\n",
       "  <thead>\n",
       "    <tr style=\"text-align: right;\">\n",
       "      <th></th>\n",
       "      <th>date</th>\n",
       "      <th>Station code</th>\n",
       "      <th>Address</th>\n",
       "      <th>Latitude</th>\n",
       "      <th>Longitude</th>\n",
       "      <th>SO2</th>\n",
       "      <th>NO2</th>\n",
       "      <th>CO</th>\n",
       "      <th>O3</th>\n",
       "      <th>PM2.5</th>\n",
       "      <th>PM10</th>\n",
       "    </tr>\n",
       "  </thead>\n",
       "  <tbody>\n",
       "    <tr>\n",
       "      <th>0</th>\n",
       "      <td>1/1/2017 0:00</td>\n",
       "      <td>101</td>\n",
       "      <td>Kuril Bishow Road, Dhaka, Bangladesh</td>\n",
       "      <td>23.820612</td>\n",
       "      <td>90.421011</td>\n",
       "      <td>0.04</td>\n",
       "      <td>0.059</td>\n",
       "      <td>1.2</td>\n",
       "      <td>0.0525</td>\n",
       "      <td>57</td>\n",
       "      <td>73</td>\n",
       "    </tr>\n",
       "    <tr>\n",
       "      <th>1</th>\n",
       "      <td>1/1/2017 1:00</td>\n",
       "      <td>101</td>\n",
       "      <td>Kuril Bishow Road, Dhaka, Bangladesh</td>\n",
       "      <td>23.820612</td>\n",
       "      <td>90.421011</td>\n",
       "      <td>0.04</td>\n",
       "      <td>0.058</td>\n",
       "      <td>1.2</td>\n",
       "      <td>0.0525</td>\n",
       "      <td>59</td>\n",
       "      <td>71</td>\n",
       "    </tr>\n",
       "    <tr>\n",
       "      <th>2</th>\n",
       "      <td>1/1/2017 2:00</td>\n",
       "      <td>101</td>\n",
       "      <td>Kuril Bishow Road, Dhaka, Bangladesh</td>\n",
       "      <td>23.820612</td>\n",
       "      <td>90.421011</td>\n",
       "      <td>0.04</td>\n",
       "      <td>0.056</td>\n",
       "      <td>1.2</td>\n",
       "      <td>0.0525</td>\n",
       "      <td>59</td>\n",
       "      <td>70</td>\n",
       "    </tr>\n",
       "    <tr>\n",
       "      <th>3</th>\n",
       "      <td>1/1/2017 3:00</td>\n",
       "      <td>101</td>\n",
       "      <td>Kuril Bishow Road, Dhaka, Bangladesh</td>\n",
       "      <td>23.820612</td>\n",
       "      <td>90.421011</td>\n",
       "      <td>0.04</td>\n",
       "      <td>0.056</td>\n",
       "      <td>1.2</td>\n",
       "      <td>0.0525</td>\n",
       "      <td>58</td>\n",
       "      <td>70</td>\n",
       "    </tr>\n",
       "    <tr>\n",
       "      <th>4</th>\n",
       "      <td>1/1/2017 4:00</td>\n",
       "      <td>101</td>\n",
       "      <td>Kuril Bishow Road, Dhaka, Bangladesh</td>\n",
       "      <td>23.820612</td>\n",
       "      <td>90.421011</td>\n",
       "      <td>0.03</td>\n",
       "      <td>0.051</td>\n",
       "      <td>1.2</td>\n",
       "      <td>0.0525</td>\n",
       "      <td>61</td>\n",
       "      <td>69</td>\n",
       "    </tr>\n",
       "    <tr>\n",
       "      <th>...</th>\n",
       "      <td>...</td>\n",
       "      <td>...</td>\n",
       "      <td>...</td>\n",
       "      <td>...</td>\n",
       "      <td>...</td>\n",
       "      <td>...</td>\n",
       "      <td>...</td>\n",
       "      <td>...</td>\n",
       "      <td>...</td>\n",
       "      <td>...</td>\n",
       "      <td>...</td>\n",
       "    </tr>\n",
       "    <tr>\n",
       "      <th>155400</th>\n",
       "      <td>12/31/2022 19:00</td>\n",
       "      <td>103</td>\n",
       "      <td>Tongi, Gazipur, Bangladesh</td>\n",
       "      <td>23.894144</td>\n",
       "      <td>90.404219</td>\n",
       "      <td>0.02</td>\n",
       "      <td>0.03</td>\n",
       "      <td>3.5</td>\n",
       "      <td>0.11</td>\n",
       "      <td>59</td>\n",
       "      <td>99</td>\n",
       "    </tr>\n",
       "    <tr>\n",
       "      <th>155401</th>\n",
       "      <td>12/31/2022 20:00</td>\n",
       "      <td>103</td>\n",
       "      <td>Tongi, Gazipur, Bangladesh</td>\n",
       "      <td>23.894144</td>\n",
       "      <td>90.404219</td>\n",
       "      <td>0.02</td>\n",
       "      <td>0.03</td>\n",
       "      <td>3.5</td>\n",
       "      <td>0.1</td>\n",
       "      <td>61</td>\n",
       "      <td>101</td>\n",
       "    </tr>\n",
       "    <tr>\n",
       "      <th>155402</th>\n",
       "      <td>12/31/2022 21:00</td>\n",
       "      <td>103</td>\n",
       "      <td>Tongi, Gazipur, Bangladesh</td>\n",
       "      <td>23.894144</td>\n",
       "      <td>90.404219</td>\n",
       "      <td>0.02</td>\n",
       "      <td>0.028</td>\n",
       "      <td>3.5</td>\n",
       "      <td>0.1</td>\n",
       "      <td>62</td>\n",
       "      <td>100</td>\n",
       "    </tr>\n",
       "    <tr>\n",
       "      <th>155403</th>\n",
       "      <td>12/31/2022 22:00</td>\n",
       "      <td>103</td>\n",
       "      <td>Tongi, Gazipur, Bangladesh</td>\n",
       "      <td>23.894144</td>\n",
       "      <td>90.404219</td>\n",
       "      <td>0.02</td>\n",
       "      <td>0.042</td>\n",
       "      <td>3.6</td>\n",
       "      <td>0.0525</td>\n",
       "      <td>65</td>\n",
       "      <td>106</td>\n",
       "    </tr>\n",
       "    <tr>\n",
       "      <th>155404</th>\n",
       "      <td>12/31/2022 23:00</td>\n",
       "      <td>103</td>\n",
       "      <td>Tongi, Gazipur, Bangladesh</td>\n",
       "      <td>23.894144</td>\n",
       "      <td>90.404219</td>\n",
       "      <td>0.02</td>\n",
       "      <td>0.037</td>\n",
       "      <td>3.5</td>\n",
       "      <td>0.04</td>\n",
       "      <td>64</td>\n",
       "      <td>104</td>\n",
       "    </tr>\n",
       "  </tbody>\n",
       "</table>\n",
       "<p>155405 rows × 11 columns</p>\n",
       "</div>"
      ],
      "text/plain": [
       "                    date Station code                               Address  \\\n",
       "0          1/1/2017 0:00          101  Kuril Bishow Road, Dhaka, Bangladesh   \n",
       "1          1/1/2017 1:00          101  Kuril Bishow Road, Dhaka, Bangladesh   \n",
       "2          1/1/2017 2:00          101  Kuril Bishow Road, Dhaka, Bangladesh   \n",
       "3          1/1/2017 3:00          101  Kuril Bishow Road, Dhaka, Bangladesh   \n",
       "4          1/1/2017 4:00          101  Kuril Bishow Road, Dhaka, Bangladesh   \n",
       "...                  ...          ...                                   ...   \n",
       "155400  12/31/2022 19:00          103            Tongi, Gazipur, Bangladesh   \n",
       "155401  12/31/2022 20:00          103            Tongi, Gazipur, Bangladesh   \n",
       "155402  12/31/2022 21:00          103            Tongi, Gazipur, Bangladesh   \n",
       "155403  12/31/2022 22:00          103            Tongi, Gazipur, Bangladesh   \n",
       "155404  12/31/2022 23:00          103            Tongi, Gazipur, Bangladesh   \n",
       "\n",
       "         Latitude  Longitude   SO2    NO2   CO      O3 PM2.5 PM10  \n",
       "0       23.820612  90.421011  0.04  0.059  1.2  0.0525    57   73  \n",
       "1       23.820612  90.421011  0.04  0.058  1.2  0.0525    59   71  \n",
       "2       23.820612  90.421011  0.04  0.056  1.2  0.0525    59   70  \n",
       "3       23.820612  90.421011  0.04  0.056  1.2  0.0525    58   70  \n",
       "4       23.820612  90.421011  0.03  0.051  1.2  0.0525    61   69  \n",
       "...           ...        ...   ...    ...  ...     ...   ...  ...  \n",
       "155400  23.894144  90.404219  0.02   0.03  3.5    0.11    59   99  \n",
       "155401  23.894144  90.404219  0.02   0.03  3.5     0.1    61  101  \n",
       "155402  23.894144  90.404219  0.02  0.028  3.5     0.1    62  100  \n",
       "155403  23.894144  90.404219  0.02  0.042  3.6  0.0525    65  106  \n",
       "155404  23.894144  90.404219  0.02  0.037  3.5    0.04    64  104  \n",
       "\n",
       "[155405 rows x 11 columns]"
      ]
     },
     "execution_count": 20,
     "metadata": {},
     "output_type": "execute_result"
    }
   ],
   "source": [
    "data"
   ]
  },
  {
   "cell_type": "code",
   "execution_count": 21,
   "id": "d23a681a",
   "metadata": {},
   "outputs": [
    {
     "data": {
      "text/html": [
       "<div>\n",
       "<style scoped>\n",
       "    .dataframe tbody tr th:only-of-type {\n",
       "        vertical-align: middle;\n",
       "    }\n",
       "\n",
       "    .dataframe tbody tr th {\n",
       "        vertical-align: top;\n",
       "    }\n",
       "\n",
       "    .dataframe thead th {\n",
       "        text-align: right;\n",
       "    }\n",
       "</style>\n",
       "<table border=\"1\" class=\"dataframe\">\n",
       "  <thead>\n",
       "    <tr style=\"text-align: right;\">\n",
       "      <th></th>\n",
       "      <th>SO2</th>\n",
       "      <th>NO2</th>\n",
       "      <th>CO</th>\n",
       "      <th>O3</th>\n",
       "      <th>PM2.5</th>\n",
       "      <th>PM10</th>\n",
       "    </tr>\n",
       "  </thead>\n",
       "  <tbody>\n",
       "    <tr>\n",
       "      <th>0</th>\n",
       "      <td>0.04</td>\n",
       "      <td>0.059</td>\n",
       "      <td>1.2</td>\n",
       "      <td>0.0525</td>\n",
       "      <td>57</td>\n",
       "      <td>73</td>\n",
       "    </tr>\n",
       "    <tr>\n",
       "      <th>1</th>\n",
       "      <td>0.04</td>\n",
       "      <td>0.058</td>\n",
       "      <td>1.2</td>\n",
       "      <td>0.0525</td>\n",
       "      <td>59</td>\n",
       "      <td>71</td>\n",
       "    </tr>\n",
       "    <tr>\n",
       "      <th>2</th>\n",
       "      <td>0.04</td>\n",
       "      <td>0.056</td>\n",
       "      <td>1.2</td>\n",
       "      <td>0.0525</td>\n",
       "      <td>59</td>\n",
       "      <td>70</td>\n",
       "    </tr>\n",
       "    <tr>\n",
       "      <th>3</th>\n",
       "      <td>0.04</td>\n",
       "      <td>0.056</td>\n",
       "      <td>1.2</td>\n",
       "      <td>0.0525</td>\n",
       "      <td>58</td>\n",
       "      <td>70</td>\n",
       "    </tr>\n",
       "    <tr>\n",
       "      <th>4</th>\n",
       "      <td>0.03</td>\n",
       "      <td>0.051</td>\n",
       "      <td>1.2</td>\n",
       "      <td>0.0525</td>\n",
       "      <td>61</td>\n",
       "      <td>69</td>\n",
       "    </tr>\n",
       "    <tr>\n",
       "      <th>...</th>\n",
       "      <td>...</td>\n",
       "      <td>...</td>\n",
       "      <td>...</td>\n",
       "      <td>...</td>\n",
       "      <td>...</td>\n",
       "      <td>...</td>\n",
       "    </tr>\n",
       "    <tr>\n",
       "      <th>155400</th>\n",
       "      <td>0.02</td>\n",
       "      <td>0.03</td>\n",
       "      <td>3.5</td>\n",
       "      <td>0.11</td>\n",
       "      <td>59</td>\n",
       "      <td>99</td>\n",
       "    </tr>\n",
       "    <tr>\n",
       "      <th>155401</th>\n",
       "      <td>0.02</td>\n",
       "      <td>0.03</td>\n",
       "      <td>3.5</td>\n",
       "      <td>0.1</td>\n",
       "      <td>61</td>\n",
       "      <td>101</td>\n",
       "    </tr>\n",
       "    <tr>\n",
       "      <th>155402</th>\n",
       "      <td>0.02</td>\n",
       "      <td>0.028</td>\n",
       "      <td>3.5</td>\n",
       "      <td>0.1</td>\n",
       "      <td>62</td>\n",
       "      <td>100</td>\n",
       "    </tr>\n",
       "    <tr>\n",
       "      <th>155403</th>\n",
       "      <td>0.02</td>\n",
       "      <td>0.042</td>\n",
       "      <td>3.6</td>\n",
       "      <td>0.0525</td>\n",
       "      <td>65</td>\n",
       "      <td>106</td>\n",
       "    </tr>\n",
       "    <tr>\n",
       "      <th>155404</th>\n",
       "      <td>0.02</td>\n",
       "      <td>0.037</td>\n",
       "      <td>3.5</td>\n",
       "      <td>0.04</td>\n",
       "      <td>64</td>\n",
       "      <td>104</td>\n",
       "    </tr>\n",
       "  </tbody>\n",
       "</table>\n",
       "<p>155405 rows × 6 columns</p>\n",
       "</div>"
      ],
      "text/plain": [
       "         SO2    NO2   CO      O3 PM2.5 PM10\n",
       "0       0.04  0.059  1.2  0.0525    57   73\n",
       "1       0.04  0.058  1.2  0.0525    59   71\n",
       "2       0.04  0.056  1.2  0.0525    59   70\n",
       "3       0.04  0.056  1.2  0.0525    58   70\n",
       "4       0.03  0.051  1.2  0.0525    61   69\n",
       "...      ...    ...  ...     ...   ...  ...\n",
       "155400  0.02   0.03  3.5    0.11    59   99\n",
       "155401  0.02   0.03  3.5     0.1    61  101\n",
       "155402  0.02  0.028  3.5     0.1    62  100\n",
       "155403  0.02  0.042  3.6  0.0525    65  106\n",
       "155404  0.02  0.037  3.5    0.04    64  104\n",
       "\n",
       "[155405 rows x 6 columns]"
      ]
     },
     "execution_count": 21,
     "metadata": {},
     "output_type": "execute_result"
    }
   ],
   "source": [
    "# 3. Drop kolom ID\n",
    "data = data.drop(columns=[\"date\",\"Station code\",\"Address\",\"Latitude\",\"Longitude\"])\n",
    "data"
   ]
  },
  {
   "cell_type": "code",
   "execution_count": 22,
   "id": "7d7c6710",
   "metadata": {},
   "outputs": [
    {
     "data": {
      "text/plain": [
       "array([[-0.02814874, -0.21098735, -3.42365676, -1.04500604, -0.23439755,\n",
       "        -0.56979338],\n",
       "       [-0.02814874, -0.23017811, -3.42365676, -1.04500604, -0.10068901,\n",
       "        -0.64286916],\n",
       "       [-0.02814874, -0.26855964, -3.42365676, -1.04500604, -0.10068901,\n",
       "        -0.67940706],\n",
       "       ...,\n",
       "       [-0.64413903, -0.80590094,  0.28931066, -0.79669908,  0.09987379,\n",
       "         0.4167297 ],\n",
       "       [-0.64413903, -0.53723029,  0.45074402, -1.04500604,  0.3004366 ,\n",
       "         0.63595705],\n",
       "       [-0.64413903, -0.63318409,  0.28931066, -1.11034998,  0.23358233,\n",
       "         0.56288126]])"
      ]
     },
     "execution_count": 22,
     "metadata": {},
     "output_type": "execute_result"
    }
   ],
   "source": [
    "from sklearn.preprocessing import StandardScaler\n",
    "st = StandardScaler()\n",
    "data_scaled = st.fit_transform(data)\n",
    "data_scaled"
   ]
  },
  {
   "cell_type": "code",
   "execution_count": 10,
   "id": "1b555701",
   "metadata": {},
   "outputs": [
    {
     "name": "stderr",
     "output_type": "stream",
     "text": [
      "Mencari cluster optimal:  11%|█         | 1/9 [02:58<23:50, 178.83s/it]"
     ]
    },
    {
     "name": "stdout",
     "output_type": "stream",
     "text": [
      "k=2, Silhouette Score=0.4404\n"
     ]
    },
    {
     "name": "stderr",
     "output_type": "stream",
     "text": [
      "Mencari cluster optimal:  22%|██▏       | 2/9 [05:56<20:48, 178.37s/it]"
     ]
    },
    {
     "name": "stdout",
     "output_type": "stream",
     "text": [
      "k=3, Silhouette Score=0.2368\n"
     ]
    },
    {
     "name": "stderr",
     "output_type": "stream",
     "text": [
      "Mencari cluster optimal:  33%|███▎      | 3/9 [08:51<17:39, 176.55s/it]"
     ]
    },
    {
     "name": "stdout",
     "output_type": "stream",
     "text": [
      "k=4, Silhouette Score=0.3059\n"
     ]
    },
    {
     "name": "stderr",
     "output_type": "stream",
     "text": [
      "Mencari cluster optimal:  44%|████▍     | 4/9 [11:41<14:30, 174.00s/it]"
     ]
    },
    {
     "name": "stdout",
     "output_type": "stream",
     "text": [
      "k=5, Silhouette Score=0.3094\n"
     ]
    },
    {
     "name": "stderr",
     "output_type": "stream",
     "text": [
      "Mencari cluster optimal:  56%|█████▌    | 5/9 [14:35<11:36, 174.16s/it]"
     ]
    },
    {
     "name": "stdout",
     "output_type": "stream",
     "text": [
      "k=6, Silhouette Score=0.3110\n"
     ]
    },
    {
     "name": "stderr",
     "output_type": "stream",
     "text": [
      "Mencari cluster optimal:  67%|██████▋   | 6/9 [17:26<08:39, 173.04s/it]"
     ]
    },
    {
     "name": "stdout",
     "output_type": "stream",
     "text": [
      "k=7, Silhouette Score=0.2881\n"
     ]
    },
    {
     "name": "stderr",
     "output_type": "stream",
     "text": [
      "Mencari cluster optimal:  78%|███████▊  | 7/9 [20:15<05:43, 171.77s/it]"
     ]
    },
    {
     "name": "stdout",
     "output_type": "stream",
     "text": [
      "k=8, Silhouette Score=0.3150\n"
     ]
    },
    {
     "name": "stderr",
     "output_type": "stream",
     "text": [
      "Mencari cluster optimal:  89%|████████▉ | 8/9 [23:03<02:50, 170.46s/it]"
     ]
    },
    {
     "name": "stdout",
     "output_type": "stream",
     "text": [
      "k=9, Silhouette Score=0.3090\n"
     ]
    },
    {
     "name": "stderr",
     "output_type": "stream",
     "text": [
      "Mencari cluster optimal: 100%|██████████| 9/9 [25:51<00:00, 172.39s/it]"
     ]
    },
    {
     "name": "stdout",
     "output_type": "stream",
     "text": [
      "k=10, Silhouette Score=0.2947\n"
     ]
    },
    {
     "name": "stderr",
     "output_type": "stream",
     "text": [
      "\n"
     ]
    }
   ],
   "source": [
    "from tqdm import tqdm\n",
    "from sklearn.cluster import KMeans\n",
    "from sklearn.metrics import silhouette_score\n",
    "\n",
    "# 6. Tentukan jumlah cluster optimal (Silhouette Score)\n",
    "for k in tqdm(range(2, 11), desc=\"Mencari cluster optimal\"):\n",
    "    model = KMeans(n_clusters=k, random_state=42)\n",
    "    labels = model.fit_predict(data)\n",
    "    score = silhouette_score(data, labels)\n",
    "    print(f\"k={k}, Silhouette Score={score:.4f}\")\n"
   ]
  },
  {
   "cell_type": "code",
   "execution_count": 28,
   "id": "5ee32dfc",
   "metadata": {},
   "outputs": [
    {
     "data": {
      "image/png": "[encoded data removed]",
      "text/plain": [
       "<Figure size 640x480 with 1 Axes>"
      ]
     },
     "metadata": {},
     "output_type": "display_data"
    }
   ],
   "source": [
    "# 6. Visualisasi Elbow Method\n",
    "inertia = []\n",
    "K = range(1, 11)\n",
    "for k in K:\n",
    "    model = KMeans(n_clusters=k, random_state=42, n_init=10)\n",
    "    model.fit(data_scaled)\n",
    "    inertia.append(model.inertia_)\n",
    "\n",
    "plt.plot(K, inertia, 'bo-')\n",
    "plt.xlabel('Jumlah Cluster (k)')\n",
    "plt.ylabel('Inertia (WCSS)')\n",
    "plt.title('Metode Elbow')\n",
    "plt.show()\n"
   ]
  },
  {
   "cell_type": "code",
   "execution_count": 29,
   "id": "1b15fac8",
   "metadata": {},
   "outputs": [],
   "source": [
    "# 8. Fit model KMeans dengan k yang dipilih (misal k=6)\n",
    "kmeans = KMeans(n_clusters=2, random_state=42)\n",
    "kmeans.fit(data_scaled)\n",
    "data[\"Cluster\"] = kmeans.labels_"
   ]
  },
  {
   "cell_type": "code",
   "execution_count": 32,
   "id": "9e250318",
   "metadata": {},
   "outputs": [
    {
     "data": {
      "image/png": "[encoded data removed]",
      "text/plain": [
       "<Figure size 640x480 with 1 Axes>"
      ]
     },
     "metadata": {},
     "output_type": "display_data"
    }
   ],
   "source": [
    "plt.scatter(data_scaled[:, 0], data_scaled[:, 1], \n",
    "            c=kmeans.labels_, cmap='viridis')\n",
    "plt.title('Hasil Clustering dengan K-Means')\n",
    "plt.xlabel(data.columns[0])\n",
    "plt.ylabel(data.columns[1])\n",
    "plt.show()\n"
   ]
  },
  {
   "cell_type": "code",
   "execution_count": 33,
   "id": "aad30220",
   "metadata": {},
   "outputs": [
    {
     "data": {
      "text/plain": [
       "Cluster\n",
       "0    143425\n",
       "1     11980\n",
       "Name: count, dtype: int64"
      ]
     },
     "execution_count": 33,
     "metadata": {},
     "output_type": "execute_result"
    }
   ],
   "source": [
    "data['Cluster'].value_counts()"
   ]
  },
  {
   "cell_type": "code",
   "execution_count": 34,
   "id": "85369946",
   "metadata": {},
   "outputs": [
    {
     "name": "stdout",
     "output_type": "stream",
     "text": [
      "Confusion Matrix:\n",
      "[[28684     1]\n",
      " [    4  2392]]\n",
      "\n",
      "Classification Report:\n",
      "              precision    recall  f1-score   support\n",
      "\n",
      "           0       1.00      1.00      1.00     28685\n",
      "           1       1.00      1.00      1.00      2396\n",
      "\n",
      "    accuracy                           1.00     31081\n",
      "   macro avg       1.00      1.00      1.00     31081\n",
      "weighted avg       1.00      1.00      1.00     31081\n",
      "\n"
     ]
    }
   ],
   "source": [
    "# %%\n",
    "from sklearn.model_selection import train_test_split\n",
    "from sklearn.ensemble import RandomForestClassifier\n",
    "from sklearn.metrics import classification_report, confusion_matrix\n",
    "\n",
    "# 1. Fitur (X) dan Target (y)\n",
    "X = data_scaled  # semua fitur numerik hasil preprocessing\n",
    "y = data[\"Cluster\"]  # label cluster\n",
    "\n",
    "# 2. Split data (train 80%, test 20%)\n",
    "X_train, X_test, y_train, y_test = train_test_split(\n",
    "    X, y, test_size=0.2, random_state=42, stratify=y\n",
    ")\n",
    "\n",
    "# 3. Buat model Random Forest\n",
    "rf = RandomForestClassifier(n_estimators=100, random_state=42)\n",
    "rf.fit(X_train, y_train)\n",
    "\n",
    "# 4. Prediksi\n",
    "y_pred = rf.predict(X_test)\n",
    "\n",
    "# 5. Evaluasi\n",
    "print(\"Confusion Matrix:\")\n",
    "print(confusion_matrix(y_test, y_pred))\n",
    "\n",
    "print(\"\\nClassification Report:\")\n",
    "print(classification_report(y_test, y_pred))\n"
   ]
  },
  {
   "cell_type": "code",
   "execution_count": null,
   "id": "70e31aaf",
   "metadata": {},
   "outputs": [],
   "source": []
  }
 ],
 "metadata": {
  "kernelspec": {
   "display_name": "Python 3",
   "language": "python",
   "name": "python3"
  },
  "language_info": {
   "codemirror_mode": {
    "name": "ipython",
    "version": 3
   },
   "file_extension": ".py",
   "mimetype": "text/x-python",
   "name": "python",
   "nbconvert_exporter": "python",
   "pygments_lexer": "ipython3",
   "version": "3.11.3"
  }
 },
 "nbformat": 4,
 "nbformat_minor": 5
}
