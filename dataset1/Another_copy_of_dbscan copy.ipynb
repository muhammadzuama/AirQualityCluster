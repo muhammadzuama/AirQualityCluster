{
  "cells": [
    {
      "cell_type": "markdown",
      "metadata": {
        "id": "MXtHrGqQ-Ijc"
      },
      "source": [
        "## Import Data\n"
      ]
    },
    {
      "cell_type": "code",
      "execution_count": 1,
      "metadata": {
        "colab": {
          "base_uri": "https://localhost:8080/"
        },
        "id": "4ckytV_KsJjA",
        "outputId": "6c6df742-96bc-4b85-daac-f52e2ab79fd1"
      },
      "outputs": [],
      "source": [
        "# from google.colab import drive\n",
        "# drive.mount('/content/drive')"
      ]
    },
    {
      "cell_type": "code",
      "execution_count": 1,
      "metadata": {
        "colab": {
          "base_uri": "https://localhost:8080/"
        },
        "id": "CzRq_0cMsggM",
        "outputId": "e0a0a12b-b3ba-499a-9bd9-452ef650e6e0"
      },
      "outputs": [
        {
          "name": "stdout",
          "output_type": "stream",
          "text": [
            "<class 'pandas.core.frame.DataFrame'>\n",
            "RangeIndex: 40043 entries, 0 to 40042\n",
            "Data columns (total 12 columns):\n",
            " #   Column                    Non-Null Count  Dtype  \n",
            "---  ------                    --------------  -----  \n",
            " 0   Timezone                  40043 non-null  object \n",
            " 1   Datetime                  40043 non-null  object \n",
            " 2   AQI US                    40043 non-null  int64  \n",
            " 3   AQI CN                    40043 non-null  int64  \n",
            " 4   PM2.5 (ug/m3)             40043 non-null  float64\n",
            " 5   PM10 (ug/m3)              40043 non-null  int64  \n",
            " 6   CO2 (ppm)                 40043 non-null  int64  \n",
            " 7   Temperature (Celsius)     40043 non-null  float64\n",
            " 8   Temperature (Fahrenheit)  40043 non-null  float64\n",
            " 9   Humidity (%)              40043 non-null  int64  \n",
            " 10  HCHO (ppb)                0 non-null      float64\n",
            " 11  TVOC (ppb)                0 non-null      float64\n",
            "dtypes: float64(5), int64(5), object(2)\n",
            "memory usage: 3.7+ MB\n"
          ]
        }
      ],
      "source": [
        "import pandas as pd\n",
        "data = pd.read_csv('DukuhKupang.csv')\n",
        "data.info()"
      ]
    },
    {
      "cell_type": "code",
      "execution_count": 2,
      "metadata": {
        "colab": {
          "base_uri": "https://localhost:8080/",
          "height": 423
        },
        "id": "RGeRxhyZsvOQ",
        "outputId": "c0da5127-7390-41cf-d1bd-1408ea098b12"
      },
      "outputs": [],
      "source": [
        "data = data.drop(columns = ['Datetime','Timezone','AQI CN','AQI US','HCHO (ppb)','TVOC (ppb)'])\n"
      ]
    },
    {
      "cell_type": "code",
      "execution_count": 3,
      "metadata": {
        "colab": {
          "base_uri": "https://localhost:8080/",
          "height": 272
        },
        "id": "wcPfHc3Ms9ij",
        "outputId": "cebe3ed0-320f-4f01-bef7-ae773f95ef9a"
      },
      "outputs": [
        {
          "data": {
            "text/plain": [
              "PM2.5 (ug/m3)               0\n",
              "PM10 (ug/m3)                0\n",
              "CO2 (ppm)                   0\n",
              "Temperature (Celsius)       0\n",
              "Temperature (Fahrenheit)    0\n",
              "Humidity (%)                0\n",
              "dtype: int64"
            ]
          },
          "execution_count": 3,
          "metadata": {},
          "output_type": "execute_result"
        }
      ],
      "source": [
        "data.isnull().sum()"
      ]
    },
    {
      "cell_type": "code",
      "execution_count": 4,
      "metadata": {
        "colab": {
          "base_uri": "https://localhost:8080/",
          "height": 272
        },
        "id": "GbItxX2LtJn-",
        "outputId": "cbb5c420-bf31-4f14-c827-68b82854cc37"
      },
      "outputs": [
        {
          "data": {
            "text/plain": [
              "PM2.5 (ug/m3)               0\n",
              "PM10 (ug/m3)                0\n",
              "CO2 (ppm)                   0\n",
              "Temperature (Celsius)       0\n",
              "Temperature (Fahrenheit)    0\n",
              "Humidity (%)                0\n",
              "dtype: int64"
            ]
          },
          "execution_count": 4,
          "metadata": {},
          "output_type": "execute_result"
        }
      ],
      "source": [
        "data.isna().sum()"
      ]
    },
    {
      "cell_type": "code",
      "execution_count": 5,
      "metadata": {
        "colab": {
          "base_uri": "https://localhost:8080/"
        },
        "id": "w1HELcfWtMCQ",
        "outputId": "152d4fe4-9a2e-4ee8-f719-a99d268a92dc"
      },
      "outputs": [
        {
          "data": {
            "text/plain": [
              "1079"
            ]
          },
          "execution_count": 5,
          "metadata": {},
          "output_type": "execute_result"
        }
      ],
      "source": [
        "data.duplicated().sum()"
      ]
    },
    {
      "cell_type": "code",
      "execution_count": 6,
      "metadata": {
        "colab": {
          "base_uri": "https://localhost:8080/"
        },
        "id": "YrApUhoEtN1T",
        "outputId": "96d223f0-c2e1-429d-e7d0-728c1e3d7330"
      },
      "outputs": [
        {
          "data": {
            "text/plain": [
              "0"
            ]
          },
          "execution_count": 6,
          "metadata": {},
          "output_type": "execute_result"
        }
      ],
      "source": [
        "data = data.drop_duplicates()\n",
        "data.duplicated().sum()"
      ]
    },
    {
      "cell_type": "code",
      "execution_count": 7,
      "metadata": {
        "colab": {
          "base_uri": "https://localhost:8080/",
          "height": 300
        },
        "id": "jXDv4v0jtWHx",
        "outputId": "017edcf6-a085-4c38-a07a-a5abcffcce77"
      },
      "outputs": [
        {
          "data": {
            "text/html": [
              "<div>\n",
              "<style scoped>\n",
              "    .dataframe tbody tr th:only-of-type {\n",
              "        vertical-align: middle;\n",
              "    }\n",
              "\n",
              "    .dataframe tbody tr th {\n",
              "        vertical-align: top;\n",
              "    }\n",
              "\n",
              "    .dataframe thead th {\n",
              "        text-align: right;\n",
              "    }\n",
              "</style>\n",
              "<table border=\"1\" class=\"dataframe\">\n",
              "  <thead>\n",
              "    <tr style=\"text-align: right;\">\n",
              "      <th></th>\n",
              "      <th>PM2.5 (ug/m3)</th>\n",
              "      <th>PM10 (ug/m3)</th>\n",
              "      <th>CO2 (ppm)</th>\n",
              "      <th>Temperature (Celsius)</th>\n",
              "      <th>Temperature (Fahrenheit)</th>\n",
              "      <th>Humidity (%)</th>\n",
              "    </tr>\n",
              "  </thead>\n",
              "  <tbody>\n",
              "    <tr>\n",
              "      <th>count</th>\n",
              "      <td>38964.000000</td>\n",
              "      <td>38964.000000</td>\n",
              "      <td>38964.000000</td>\n",
              "      <td>38964.000000</td>\n",
              "      <td>38964.000000</td>\n",
              "      <td>38964.000000</td>\n",
              "    </tr>\n",
              "    <tr>\n",
              "      <th>mean</th>\n",
              "      <td>39.743335</td>\n",
              "      <td>76.813289</td>\n",
              "      <td>430.712837</td>\n",
              "      <td>28.752682</td>\n",
              "      <td>83.755156</td>\n",
              "      <td>79.632789</td>\n",
              "    </tr>\n",
              "    <tr>\n",
              "      <th>std</th>\n",
              "      <td>33.883835</td>\n",
              "      <td>67.627962</td>\n",
              "      <td>21.405303</td>\n",
              "      <td>3.630710</td>\n",
              "      <td>6.535834</td>\n",
              "      <td>12.612558</td>\n",
              "    </tr>\n",
              "    <tr>\n",
              "      <th>min</th>\n",
              "      <td>3.000000</td>\n",
              "      <td>3.000000</td>\n",
              "      <td>390.000000</td>\n",
              "      <td>23.800000</td>\n",
              "      <td>74.800000</td>\n",
              "      <td>41.000000</td>\n",
              "    </tr>\n",
              "    <tr>\n",
              "      <th>25%</th>\n",
              "      <td>19.000000</td>\n",
              "      <td>36.000000</td>\n",
              "      <td>416.000000</td>\n",
              "      <td>26.000000</td>\n",
              "      <td>78.700000</td>\n",
              "      <td>72.000000</td>\n",
              "    </tr>\n",
              "    <tr>\n",
              "      <th>50%</th>\n",
              "      <td>30.000000</td>\n",
              "      <td>57.000000</td>\n",
              "      <td>426.000000</td>\n",
              "      <td>27.500000</td>\n",
              "      <td>81.500000</td>\n",
              "      <td>83.000000</td>\n",
              "    </tr>\n",
              "    <tr>\n",
              "      <th>75%</th>\n",
              "      <td>49.000000</td>\n",
              "      <td>92.000000</td>\n",
              "      <td>440.000000</td>\n",
              "      <td>30.700000</td>\n",
              "      <td>87.200000</td>\n",
              "      <td>90.000000</td>\n",
              "    </tr>\n",
              "    <tr>\n",
              "      <th>max</th>\n",
              "      <td>1798.800000</td>\n",
              "      <td>2000.000000</td>\n",
              "      <td>628.000000</td>\n",
              "      <td>41.500000</td>\n",
              "      <td>106.700000</td>\n",
              "      <td>97.000000</td>\n",
              "    </tr>\n",
              "  </tbody>\n",
              "</table>\n",
              "</div>"
            ],
            "text/plain": [
              "       PM2.5 (ug/m3)  PM10 (ug/m3)     CO2 (ppm)  Temperature (Celsius)  \\\n",
              "count   38964.000000  38964.000000  38964.000000           38964.000000   \n",
              "mean       39.743335     76.813289    430.712837              28.752682   \n",
              "std        33.883835     67.627962     21.405303               3.630710   \n",
              "min         3.000000      3.000000    390.000000              23.800000   \n",
              "25%        19.000000     36.000000    416.000000              26.000000   \n",
              "50%        30.000000     57.000000    426.000000              27.500000   \n",
              "75%        49.000000     92.000000    440.000000              30.700000   \n",
              "max      1798.800000   2000.000000    628.000000              41.500000   \n",
              "\n",
              "       Temperature (Fahrenheit)  Humidity (%)  \n",
              "count              38964.000000  38964.000000  \n",
              "mean                  83.755156     79.632789  \n",
              "std                    6.535834     12.612558  \n",
              "min                   74.800000     41.000000  \n",
              "25%                   78.700000     72.000000  \n",
              "50%                   81.500000     83.000000  \n",
              "75%                   87.200000     90.000000  \n",
              "max                  106.700000     97.000000  "
            ]
          },
          "execution_count": 7,
          "metadata": {},
          "output_type": "execute_result"
        }
      ],
      "source": [
        "data.describe(\n",
        "\n",
        ")"
      ]
    },
    {
      "cell_type": "code",
      "execution_count": 8,
      "metadata": {
        "colab": {
          "base_uri": "https://localhost:8080/"
        },
        "id": "Plovj3vmvIas",
        "outputId": "87cc76a1-d4f5-4f3d-a7e2-378c18bce5dc"
      },
      "outputs": [
        {
          "name": "stdout",
          "output_type": "stream",
          "text": [
            "Number of potential outliers detected: 5026\n"
          ]
        }
      ],
      "source": [
        "## cek data Oulier\n",
        "\n",
        "Q1 = data.quantile(0.25)\n",
        "Q3 = data.quantile(0.75)\n",
        "IQR = Q3 - Q1\n",
        "\n",
        "lower_bound = Q1 - 1.5 * IQR\n",
        "upper_bound = Q3 + 1.5 * IQR\n",
        "\n",
        "outlier_indices = data[(data < lower_bound) | (data > upper_bound)].dropna(how='all').index\n",
        "print(f\"Number of potential outliers detected: {len(outlier_indices)}\")"
      ]
    },
    {
      "cell_type": "code",
      "execution_count": 9,
      "metadata": {
        "colab": {
          "base_uri": "https://localhost:8080/",
          "height": 310
        },
        "id": "VDxFNgfLw49x",
        "outputId": "4407d952-11e0-4e35-b7c1-7c120b7050ae"
      },
      "outputs": [
        {
          "name": "stdout",
          "output_type": "stream",
          "text": [
            "Removing 5026 potential outliers.\n",
            "Removing 2066 potential outliers.\n",
            "Removing 987 potential outliers.\n",
            "Removing 431 potential outliers.\n",
            "Removing 229 potential outliers.\n",
            "Removing 135 potential outliers.\n",
            "Removing 170 potential outliers.\n",
            "Removing 355 potential outliers.\n",
            "No more outliers detected.\n",
            "Number of rows after removing outliers iteratively: 29565\n"
          ]
        },
        {
          "data": {
            "text/html": [
              "<div>\n",
              "<style scoped>\n",
              "    .dataframe tbody tr th:only-of-type {\n",
              "        vertical-align: middle;\n",
              "    }\n",
              "\n",
              "    .dataframe tbody tr th {\n",
              "        vertical-align: top;\n",
              "    }\n",
              "\n",
              "    .dataframe thead th {\n",
              "        text-align: right;\n",
              "    }\n",
              "</style>\n",
              "<table border=\"1\" class=\"dataframe\">\n",
              "  <thead>\n",
              "    <tr style=\"text-align: right;\">\n",
              "      <th></th>\n",
              "      <th>PM2.5 (ug/m3)</th>\n",
              "      <th>PM10 (ug/m3)</th>\n",
              "      <th>CO2 (ppm)</th>\n",
              "      <th>Temperature (Celsius)</th>\n",
              "      <th>Temperature (Fahrenheit)</th>\n",
              "      <th>Humidity (%)</th>\n",
              "    </tr>\n",
              "  </thead>\n",
              "  <tbody>\n",
              "    <tr>\n",
              "      <th>25</th>\n",
              "      <td>16.0</td>\n",
              "      <td>35</td>\n",
              "      <td>427</td>\n",
              "      <td>37.6</td>\n",
              "      <td>99.6</td>\n",
              "      <td>49</td>\n",
              "    </tr>\n",
              "    <tr>\n",
              "      <th>26</th>\n",
              "      <td>12.0</td>\n",
              "      <td>30</td>\n",
              "      <td>426</td>\n",
              "      <td>37.6</td>\n",
              "      <td>99.6</td>\n",
              "      <td>48</td>\n",
              "    </tr>\n",
              "    <tr>\n",
              "      <th>27</th>\n",
              "      <td>16.0</td>\n",
              "      <td>35</td>\n",
              "      <td>422</td>\n",
              "      <td>37.5</td>\n",
              "      <td>99.4</td>\n",
              "      <td>50</td>\n",
              "    </tr>\n",
              "    <tr>\n",
              "      <th>28</th>\n",
              "      <td>12.0</td>\n",
              "      <td>18</td>\n",
              "      <td>421</td>\n",
              "      <td>37.3</td>\n",
              "      <td>99.1</td>\n",
              "      <td>49</td>\n",
              "    </tr>\n",
              "    <tr>\n",
              "      <th>29</th>\n",
              "      <td>11.0</td>\n",
              "      <td>13</td>\n",
              "      <td>424</td>\n",
              "      <td>37.1</td>\n",
              "      <td>98.8</td>\n",
              "      <td>50</td>\n",
              "    </tr>\n",
              "  </tbody>\n",
              "</table>\n",
              "</div>"
            ],
            "text/plain": [
              "    PM2.5 (ug/m3)  PM10 (ug/m3)  CO2 (ppm)  Temperature (Celsius)  \\\n",
              "25           16.0            35        427                   37.6   \n",
              "26           12.0            30        426                   37.6   \n",
              "27           16.0            35        422                   37.5   \n",
              "28           12.0            18        421                   37.3   \n",
              "29           11.0            13        424                   37.1   \n",
              "\n",
              "    Temperature (Fahrenheit)  Humidity (%)  \n",
              "25                      99.6            49  \n",
              "26                      99.6            48  \n",
              "27                      99.4            50  \n",
              "28                      99.1            49  \n",
              "29                      98.8            50  "
            ]
          },
          "metadata": {},
          "output_type": "display_data"
        }
      ],
      "source": [
        "## Hapus data Oulier\n",
        "data_cleaned_looped = data.copy() # Create a copy to avoid modifying the original data\n",
        "\n",
        "while True:\n",
        "    Q1 = data_cleaned_looped.quantile(0.25)\n",
        "    Q3 = data_cleaned_looped.quantile(0.75)\n",
        "    IQR = Q3 - Q1\n",
        "\n",
        "    lower_bound = Q1 - 1.5 * IQR\n",
        "    upper_bound = Q3 + 1.5 * IQR\n",
        "\n",
        "    outlier_indices = data_cleaned_looped[(data_cleaned_looped < lower_bound) | (data_cleaned_looped > upper_bound)].dropna(how='all').index\n",
        "\n",
        "    if len(outlier_indices) == 0:\n",
        "        print(\"No more outliers detected.\")\n",
        "        break\n",
        "    else:\n",
        "        print(f\"Removing {len(outlier_indices)} potential outliers.\")\n",
        "        data_cleaned_looped = data_cleaned_looped.drop(outlier_indices)\n",
        "\n",
        "print(f\"Number of rows after removing outliers iteratively: {len(data_cleaned_looped)}\")\n",
        "display(data_cleaned_looped.head())"
      ]
    },
    {
      "cell_type": "code",
      "execution_count": 10,
      "metadata": {
        "colab": {
          "base_uri": "https://localhost:8080/"
        },
        "id": "SDavStDpxEom",
        "outputId": "b30c0d78-3f38-407d-8d85-6df848ed7f69"
      },
      "outputs": [
        {
          "name": "stdout",
          "output_type": "stream",
          "text": [
            "<class 'pandas.core.frame.DataFrame'>\n",
            "Index: 29565 entries, 25 to 40042\n",
            "Data columns (total 6 columns):\n",
            " #   Column                    Non-Null Count  Dtype  \n",
            "---  ------                    --------------  -----  \n",
            " 0   PM2.5 (ug/m3)             29565 non-null  float64\n",
            " 1   PM10 (ug/m3)              29565 non-null  int64  \n",
            " 2   CO2 (ppm)                 29565 non-null  int64  \n",
            " 3   Temperature (Celsius)     29565 non-null  float64\n",
            " 4   Temperature (Fahrenheit)  29565 non-null  float64\n",
            " 5   Humidity (%)              29565 non-null  int64  \n",
            "dtypes: float64(3), int64(3)\n",
            "memory usage: 1.6 MB\n"
          ]
        }
      ],
      "source": [
        "data_cleaned_looped.info()"
      ]
    },
    {
      "cell_type": "code",
      "execution_count": 11,
      "metadata": {
        "colab": {
          "base_uri": "https://localhost:8080/",
          "height": 452
        },
        "id": "dOLdgViI7gIh",
        "outputId": "592107db-f68d-41fa-d90d-c7bed84ed573"
      },
      "outputs": [
        {
          "data": {
            "text/plain": [
              "<Axes: >"
            ]
          },
          "execution_count": 11,
          "metadata": {},
          "output_type": "execute_result"
        },
        {
          "data": {
            "image/png": "[encoded data removed]",
            "text/plain": [
              "<Figure size 640x480 with 2 Axes>"
            ]
          },
          "metadata": {},
          "output_type": "display_data"
        }
      ],
      "source": [
        "## Heatmap Data\n",
        "import seaborn as sns\n",
        "sns.heatmap(data_cleaned_looped.corr(), annot=True, cmap='coolwarm')"
      ]
    },
    {
      "cell_type": "markdown",
      "metadata": {
        "id": "7I72H6KmAHgF"
      },
      "source": [
        "# Prepocessing"
      ]
    },
    {
      "cell_type": "code",
      "execution_count": 12,
      "metadata": {
        "colab": {
          "base_uri": "https://localhost:8080/"
        },
        "id": "zXt5TCNLXazt",
        "outputId": "ba1145b1-be83-4a21-e2b5-c56b7fc4f01b"
      },
      "outputs": [],
      "source": [
        "from sklearn.model_selection import train_test_split\n",
        "\n",
        "# Asumsikan data_cleaned_looped adalah data numerik yang sudah dibersihkan\n",
        "X = data_cleaned_looped.copy()\n",
        "\n",
        "# Split sebelum apa pun!\n",
        "X_train, X_test = train_test_split(X, test_size=0.2, random_state=42, stratify=None)"
      ]
    },
    {
      "cell_type": "code",
      "execution_count": 13,
      "metadata": {},
      "outputs": [],
      "source": [
        "from sklearn.preprocessing import StandardScaler\n",
        "\n",
        "scaler = StandardScaler()\n",
        "X_train_scaled = scaler.fit_transform(X_train)   # FIT HANYA DI SINI\n",
        "X_test_scaled = scaler.transform(X_test)         # HANYA TRANSFORM, TIDAK FIT"
      ]
    },
    {
      "cell_type": "code",
      "execution_count": 14,
      "metadata": {
        "colab": {
          "base_uri": "https://localhost:8080/"
        },
        "id": "io_WB3_M799L",
        "outputId": "03487004-789b-4d7f-9f55-e38e8d95b8f5"
      },
      "outputs": [
        {
          "name": "stdout",
          "output_type": "stream",
          "text": [
            "✅ Number of clusters found: 10\n",
            "⚠️ Number of noise points: 605\n",
            "📊 Cluster labels: [-1  0  1  2  3  4  5  6  7  8  9]\n"
          ]
        }
      ],
      "source": [
        "import seaborn as sns\n",
        "from sklearn.model_selection import train_test_split\n",
        "from sklearn.preprocessing import StandardScaler\n",
        "from sklearn.cluster import DBSCAN\n",
        "from sklearn.decomposition import PCA\n",
        "from sklearn.metrics import silhouette_score, davies_bouldin_score, adjusted_rand_score\n",
        "from sklearn.ensemble import RandomForestClassifier\n",
        "from sklearn.svm import SVC\n",
        "from sklearn.neighbors import KNeighborsClassifier\n",
        "from sklearn.naive_bayes import GaussianNB\n",
        "from sklearn.tree import DecisionTreeClassifier\n",
        "from sklearn.metrics import accuracy_score, classification_report, confusion_matrix\n",
        "import numpy as np\n",
        "\n",
        "# Parameter awal (bisa di-tune)\n",
        "dbscan = DBSCAN(eps=0.5, min_samples=5)\n",
        "train_clusters = dbscan.fit_predict(X_train_scaled)\n",
        "\n",
        "# Jumlah cluster dan noise\n",
        "n_clusters = len(set(train_clusters)) - (1 if -1 in train_clusters else 0)\n",
        "n_noise = list(train_clusters).count(-1)\n",
        "\n",
        "print(f\"✅ Number of clusters found: {n_clusters}\")\n",
        "print(f\"⚠️ Number of noise points: {n_noise}\")\n",
        "print(f\"📊 Cluster labels: {np.unique(train_clusters)}\")"
      ]
    },
    {
      "cell_type": "code",
      "execution_count": 15,
      "metadata": {
        "colab": {
          "base_uri": "https://localhost:8080/"
        },
        "id": "O-2rAC-g_GCz",
        "outputId": "5ec7aef1-19c1-4585-abaf-ca0e9910dd3a"
      },
      "outputs": [
        {
          "name": "stdout",
          "output_type": "stream",
          "text": [
            "🟢 Silhouette Score: -0.1436\n",
            "🟡 Davies-Bouldin: Cannot compute — Found input variables with inconsistent numbers of samples: [23652, 23047]\n"
          ]
        }
      ],
      "source": [
        "# Hanya evaluasi jika ada lebih dari 1 cluster (bukan semua noise)\n",
        "if n_clusters > 1:\n",
        "    try:\n",
        "        sil_score = silhouette_score(X_train_scaled, train_clusters)\n",
        "        print(f\"🟢 Silhouette Score: {sil_score:.4f}\")\n",
        "    except ValueError as e:\n",
        "        print(f\"🟡 Silhouette Score: Cannot compute (likely because of noise or single cluster) — {e}\")\n",
        "\n",
        "    try:\n",
        "        db_index = davies_bouldin_score(X_train_scaled, train_clusters[train_clusters != -1])\n",
        "        print(f\"🔵 Davies-Bouldin Index: {db_index:.4f}\")\n",
        "    except ValueError as e:\n",
        "        print(f\"🟡 Davies-Bouldin: Cannot compute — {e}\")\n",
        "else:\n",
        "    print(\"🔴 Only 1 cluster or all noise — clustering quality metrics not applicable.\")\n"
      ]
    },
    {
      "cell_type": "code",
      "execution_count": null,
      "metadata": {
        "colab": {
          "base_uri": "https://localhost:8080/"
        },
        "id": "DHxWY8kTQdKe",
        "outputId": "8a7cdadf-db87-4350-a259-72c12460748c"
      },
      "outputs": [
        {
          "data": {
            "text/plain": [
              "array([[-1.58503773e+00, -8.03544189e-01, -3.99027108e-01,\n",
              "        -6.11104426e-01, -6.48622162e-01, -6.28020103e-01],\n",
              "       [-4.89428755e-01,  2.10786569e+00, -3.99027108e-01,\n",
              "        -3.48980865e-01, -8.81083031e-01,  2.72281081e-01],\n",
              "       [ 6.06180221e-01,  1.56197634e+00, -3.99027108e-01,\n",
              "         2.53437830e+00, -6.74699883e-02,  2.19072592e-03],\n",
              "       ...,\n",
              "       [ 6.06180221e-01,  1.19805010e+00, -9.74364797e-01,\n",
              "         1.28929139e+00,  8.62373489e-01, -1.79841164e+00],\n",
              "       [ 6.06180221e-01, -8.94525747e-01, -3.99027108e-01,\n",
              "         2.40797147e-01,  5.13682185e-01,  6.77416614e-01],\n",
              "       [-1.58503773e+00,  2.10786569e+00, -3.99027108e-01,\n",
              "        -8.73227987e-01, -9.97313466e-01, -6.73035163e-01]])"
            ]
          },
          "execution_count": 51,
          "metadata": {},
          "output_type": "execute_result"
        }
      ],
      "source": [
        "X_train_scaled"
      ]
    },
    {
      "cell_type": "code",
      "execution_count": 16,
      "metadata": {
        "colab": {
          "base_uri": "https://localhost:8080/"
        },
        "id": "Is6rzyzqRtK2",
        "outputId": "557c38ec-b3e4-4ec1-ec00-b7adb921ce55"
      },
      "outputs": [
        {
          "name": "stdout",
          "output_type": "stream",
          "text": [
            "Silhouette Score: -0.14355993240291762\n",
            "Davies-Bouldin Index: 1.3753778682150875\n"
          ]
        }
      ],
      "source": [
        "from sklearn.metrics import silhouette_score, davies_bouldin_score\n",
        "\n",
        "# Evaluate clustering performance\n",
        "# Silhouette Score: Higher value means better defined clusters (range -1 to 1)\n",
        "silhouette_avg = silhouette_score(X_train_scaled, train_clusters)\n",
        "print(f\"Silhouette Score: {silhouette_avg}\")\n",
        "\n",
        "# Davies-Bouldin Index: Lower value means better clustering (0 indicates perfect separation)\n",
        "db_index = davies_bouldin_score(X_train_scaled, train_clusters)\n",
        "print(f\"Davies-Bouldin Index: {db_index}\")"
      ]
    }
  ],
  "metadata": {
    "accelerator": "GPU",
    "colab": {
      "gpuType": "T4",
      "provenance": []
    },
    "kernelspec": {
      "display_name": "Python 3",
      "name": "python3"
    },
    "language_info": {
      "codemirror_mode": {
        "name": "ipython",
        "version": 3
      },
      "file_extension": ".py",
      "mimetype": "text/x-python",
      "name": "python",
      "nbconvert_exporter": "python",
      "pygments_lexer": "ipython3",
      "version": "3.11.3"
    }
  },
  "nbformat": 4,
  "nbformat_minor": 0
}
